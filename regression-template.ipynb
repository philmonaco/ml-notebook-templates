{
 "cells": [
  {
   "cell_type": "markdown",
   "metadata": {},
   "source": [
    "# Project Template\n",
    "1. Prepare Problem:\n",
    "   *  Load libraries\n",
    "   *  Load dataset\n",
    "2. Summarize Data\n",
    "   *  Descriptive statistics\n",
    "       * peek at the data\n",
    "       * dimensions of the data\n",
    "       * data type for each attribute (need to convert str to float if required)\n",
    "       * Count, mean, max, min, std dev, 25th, 50th, and 75th percentile\n",
    "       * class distribution (if classification)\n",
    "       * correlations of attributes in the data\n",
    "       * skewness (normal or not), can use skew() function in pandas lib\n",
    "   *  Data visualizations\n",
    "       * Univariate plots (histograms, density plots, box and whisker plots)\n",
    "       * Multivariate plots (correlation matrix plot, scatter plot matrix)\n",
    "3. Prepare Data\n",
    "   *  Data Cleaning\n",
    "       * check for issues in data (wrong data, missing values, data integrity issues)\n",
    "   *  Feature Selection\n",
    "       * Univariate selection (selctKbest and chi-squared or f-values). See the example below.\n",
    "       * RFE (recursive feature elimination) works by recursively removing attributes and\n",
    "            building a model on those attributes that remain. check documentation for more details. See the example below.\n",
    "       * PCA .. we have already discussed this in class. Showing an example again here\n",
    "   * Feature importance \n",
    "       * Bagged decision trees like Random Forest can be used to estimate the importance\n",
    "         of features. In the example below we construct a RandomForestClassifier\n",
    "   *  Data Transforms\n",
    "       * Rescale data (data of varying scales when using distance measures such as knn). You can use minmaxscaler, standardscaler, normalizer). All of them are under sklern.preprocessing\n",
    "       * you may also want to use binarizer for some features. Say you have a probability feature and you want to turn it into 1/0 values. you can use preprocessing.binarizer for this.\n",
    "4. Evaluate Algorithms\n",
    "   *  Split-out validation dataset\n",
    "       * train and test sets\n",
    "       * use k-fold cross validation whereever possible.\n",
    "           * if you are using a time consuming algorithm or a huge dataset, use smaller k's\n",
    "           * use both mean and sd/CI\n",
    "   *  Test options and evaluation metric\n",
    "       * remember unbalnaced dataset we discussed in class. accuracy is not always the best option\n",
    "       * make use of confusion matrix, precision, recall, f1 score\n",
    "       * Use AUC score \n",
    "       * Use classification report (seen in class)\n",
    "       * Regression ( Mean squared error, mean absolute error, R^2) (see example below)\n",
    "   *  Spot Check Algorithms\n",
    "       * quick way to check which algorithms work well for your problem\n",
    "   *  Compare Algorithms\n",
    "       * Comparing different algorithms in a consistent way is important (see examples for both classification and regression problems)\n",
    "5. Improve Accuracy\n",
    "   *  Algorithm Tuning\n",
    "       * Use pipelines.. saves a lot of time!\n",
    "   *  Ensembles\n",
    "6. Finalize Model\n",
    "   *  Predictions on validation dataset\n",
    "   *  Create standalone model on entire training dataset\n",
    "   *  Save model for later use"
   ]
  },
  {
   "attachments": {},
   "cell_type": "markdown",
   "metadata": {},
   "source": [
    "# 1. Prepare Problem:\n",
    "### 1.1 Load libraries\n"
   ]
  },
  {
   "cell_type": "code",
   "execution_count": 2,
   "metadata": {},
   "outputs": [],
   "source": [
    "# Load libraries"
   ]
  },
  {
   "attachments": {},
   "cell_type": "markdown",
   "metadata": {},
   "source": [
    "### 1.2 Load dataset"
   ]
  },
  {
   "cell_type": "code",
   "execution_count": 3,
   "metadata": {},
   "outputs": [],
   "source": [
    "# Load dataset"
   ]
  },
  {
   "attachments": {},
   "cell_type": "markdown",
   "metadata": {},
   "source": [
    "# 2. Summarize Data\n",
    "## 2.1 Descriptive statistics\n",
    "### 2.1.1 peek at the data\n"
   ]
  },
  {
   "cell_type": "code",
   "execution_count": 5,
   "metadata": {},
   "outputs": [],
   "source": [
    "# head"
   ]
  },
  {
   "attachments": {},
   "cell_type": "markdown",
   "metadata": {},
   "source": [
    "### 2.1.2 dimensions of the data"
   ]
  },
  {
   "cell_type": "code",
   "execution_count": 6,
   "metadata": {
    "scrolled": true
   },
   "outputs": [],
   "source": [
    "# shape"
   ]
  },
  {
   "attachments": {},
   "cell_type": "markdown",
   "metadata": {},
   "source": [
    "### 2.1.3 Data type for each attribute (need to convert str to float if required)"
   ]
  },
  {
   "cell_type": "code",
   "execution_count": 7,
   "metadata": {},
   "outputs": [],
   "source": [
    "# show dtypes"
   ]
  },
  {
   "attachments": {},
   "cell_type": "markdown",
   "metadata": {},
   "source": [
    "### 2.1.4 Count, mean, max, min, std dev, 25th, 50th, and 75th percentile"
   ]
  },
  {
   "cell_type": "code",
   "execution_count": 9,
   "metadata": {},
   "outputs": [],
   "source": [
    "# set precision set_option('precision', 1) and describe()"
   ]
  },
  {
   "attachments": {},
   "cell_type": "markdown",
   "metadata": {},
   "source": [
    "### 2.1.5 Correlations of attributes in the data."
   ]
  },
  {
   "cell_type": "code",
   "execution_count": 10,
   "metadata": {},
   "outputs": [],
   "source": [
    "# set precision set_option('precision', 2), correlation using .corr() method"
   ]
  },
  {
   "attachments": {},
   "cell_type": "markdown",
   "metadata": {},
   "source": [
    "### 2.1.5 Show skewness (normal or not), can use skew() function in pandas lib."
   ]
  },
  {
   "cell_type": "code",
   "execution_count": null,
   "metadata": {},
   "outputs": [],
   "source": [
    "# show skewness using .skew() method"
   ]
  },
  {
   "attachments": {},
   "cell_type": "markdown",
   "metadata": {},
   "source": [
    "## 2.2 Data visualizations\n",
    "### 2.2.1 Univariate - Histograms"
   ]
  },
  {
   "cell_type": "code",
   "execution_count": 11,
   "metadata": {},
   "outputs": [
    {
     "ename": "NameError",
     "evalue": "name 'dataset' is not defined",
     "output_type": "error",
     "traceback": [
      "\u001b[0;31m---------------------------------------------------------------------------\u001b[0m",
      "\u001b[0;31mNameError\u001b[0m                                 Traceback (most recent call last)",
      "Cell \u001b[0;32mIn[11], line 1\u001b[0m\n\u001b[0;32m----> 1\u001b[0m dataset\u001b[39m.\u001b[39mhist(sharex\u001b[39m=\u001b[39m\u001b[39mFalse\u001b[39;00m, sharey\u001b[39m=\u001b[39m\u001b[39mFalse\u001b[39;00m, xlabelsize\u001b[39m=\u001b[39m\u001b[39m1\u001b[39m, ylabelsize\u001b[39m=\u001b[39m\u001b[39m1\u001b[39m, figsize\u001b[39m=\u001b[39m(\u001b[39m12\u001b[39m,\u001b[39m12\u001b[39m))\n\u001b[1;32m      2\u001b[0m pyplot\u001b[39m.\u001b[39mshow()\n",
      "\u001b[0;31mNameError\u001b[0m: name 'dataset' is not defined"
     ]
    }
   ],
   "source": [
    "# example histogram using .hist() method\n",
    "dataframe.hist(sharex=False, sharey=False, xlabelsize=1, ylabelsize=1, figsize=(12,12))\n",
    "pyplot.show()"
   ]
  },
  {
   "attachments": {},
   "cell_type": "markdown",
   "metadata": {},
   "source": [
    "### 2.2.2 Univariate - Density Plots"
   ]
  },
  {
   "cell_type": "code",
   "execution_count": 13,
   "metadata": {
    "scrolled": true
   },
   "outputs": [
    {
     "ename": "NameError",
     "evalue": "name 'dataframe' is not defined",
     "output_type": "error",
     "traceback": [
      "\u001b[0;31m---------------------------------------------------------------------------\u001b[0m",
      "\u001b[0;31mNameError\u001b[0m                                 Traceback (most recent call last)",
      "Cell \u001b[0;32mIn[13], line 2\u001b[0m\n\u001b[1;32m      1\u001b[0m \u001b[39m# example density plot\u001b[39;00m\n\u001b[0;32m----> 2\u001b[0m dataframe\u001b[39m.\u001b[39mplot(kind\u001b[39m=\u001b[39m\u001b[39m'\u001b[39m\u001b[39mdensity\u001b[39m\u001b[39m'\u001b[39m, subplots\u001b[39m=\u001b[39m\u001b[39mTrue\u001b[39;00m, layout\u001b[39m=\u001b[39m(\u001b[39m4\u001b[39m,\u001b[39m4\u001b[39m), sharex\u001b[39m=\u001b[39m\u001b[39mFalse\u001b[39;00m, legend\u001b[39m=\u001b[39m\u001b[39mFalse\u001b[39;00m,\n\u001b[1;32m      3\u001b[0m fontsize\u001b[39m=\u001b[39m\u001b[39m1\u001b[39m, figsize\u001b[39m=\u001b[39m(\u001b[39m12\u001b[39m,\u001b[39m12\u001b[39m))\n\u001b[1;32m      4\u001b[0m pyplot\u001b[39m.\u001b[39mshow()\n",
      "\u001b[0;31mNameError\u001b[0m: name 'dataframe' is not defined"
     ]
    }
   ],
   "source": [
    "# example density plot\n",
    "dataframe.plot(kind='density', subplots=True, layout=(4,4), sharex=False, legend=False,\n",
    "fontsize=1, figsize=(12,12))\n",
    "pyplot.show()"
   ]
  },
  {
   "attachments": {},
   "cell_type": "markdown",
   "metadata": {},
   "source": [
    "### 2.2.3 Univariate - Box and Whisker Plots"
   ]
  },
  {
   "cell_type": "code",
   "execution_count": 14,
   "metadata": {},
   "outputs": [
    {
     "ename": "NameError",
     "evalue": "name 'dataframe' is not defined",
     "output_type": "error",
     "traceback": [
      "\u001b[0;31m---------------------------------------------------------------------------\u001b[0m",
      "\u001b[0;31mNameError\u001b[0m                                 Traceback (most recent call last)",
      "Cell \u001b[0;32mIn[14], line 2\u001b[0m\n\u001b[1;32m      1\u001b[0m \u001b[39m# box and whisker plots\u001b[39;00m\n\u001b[0;32m----> 2\u001b[0m dataframe\u001b[39m.\u001b[39mplot(kind\u001b[39m=\u001b[39m\u001b[39m'\u001b[39m\u001b[39mbox\u001b[39m\u001b[39m'\u001b[39m, subplots\u001b[39m=\u001b[39m\u001b[39mTrue\u001b[39;00m, layout\u001b[39m=\u001b[39m(\u001b[39m4\u001b[39m,\u001b[39m4\u001b[39m), sharex\u001b[39m=\u001b[39m\u001b[39mFalse\u001b[39;00m, sharey\u001b[39m=\u001b[39m\u001b[39mFalse\u001b[39;00m,\n\u001b[1;32m      3\u001b[0m fontsize\u001b[39m=\u001b[39m\u001b[39m8\u001b[39m, figsize\u001b[39m=\u001b[39m(\u001b[39m12\u001b[39m,\u001b[39m12\u001b[39m))\n\u001b[1;32m      4\u001b[0m pyplot\u001b[39m.\u001b[39mshow()\n",
      "\u001b[0;31mNameError\u001b[0m: name 'dataframe' is not defined"
     ]
    }
   ],
   "source": [
    "# box and whisker plots\n",
    "dataframe.plot(kind='box', subplots=True, layout=(4,4), sharex=False, sharey=False,\n",
    "fontsize=8, figsize=(12,12))\n",
    "pyplot.show()"
   ]
  },
  {
   "attachments": {},
   "cell_type": "markdown",
   "metadata": {},
   "source": [
    "### 2.2.4 Multivariate - Scatter Plot Matrix"
   ]
  },
  {
   "cell_type": "code",
   "execution_count": 15,
   "metadata": {},
   "outputs": [
    {
     "ename": "NameError",
     "evalue": "name 'scatter_matrix' is not defined",
     "output_type": "error",
     "traceback": [
      "\u001b[0;31m---------------------------------------------------------------------------\u001b[0m",
      "\u001b[0;31mNameError\u001b[0m                                 Traceback (most recent call last)",
      "Cell \u001b[0;32mIn[15], line 2\u001b[0m\n\u001b[1;32m      1\u001b[0m \u001b[39m# scatter plot matrix\u001b[39;00m\n\u001b[0;32m----> 2\u001b[0m scatter_matrix(dataframe, figsize\u001b[39m=\u001b[39m(\u001b[39m12\u001b[39m,\u001b[39m12\u001b[39m))\n\u001b[1;32m      3\u001b[0m pyplot\u001b[39m.\u001b[39mshow()\n",
      "\u001b[0;31mNameError\u001b[0m: name 'scatter_matrix' is not defined"
     ]
    }
   ],
   "source": [
    "# example scatter plot matrix\n",
    "scatter_matrix(dataframe, figsize=(12,12))\n",
    "pyplot.show()"
   ]
  },
  {
   "attachments": {},
   "cell_type": "markdown",
   "metadata": {},
   "source": [
    "### 2.2.5 Correlation Matrix Plot"
   ]
  },
  {
   "cell_type": "code",
   "execution_count": 16,
   "metadata": {},
   "outputs": [
    {
     "ename": "NameError",
     "evalue": "name 'pyplot' is not defined",
     "output_type": "error",
     "traceback": [
      "\u001b[0;31m---------------------------------------------------------------------------\u001b[0m",
      "\u001b[0;31mNameError\u001b[0m                                 Traceback (most recent call last)",
      "Cell \u001b[0;32mIn[16], line 2\u001b[0m\n\u001b[1;32m      1\u001b[0m \u001b[39m# example correlation matrix\u001b[39;00m\n\u001b[0;32m----> 2\u001b[0m fig \u001b[39m=\u001b[39m pyplot\u001b[39m.\u001b[39mfigure(figsize\u001b[39m=\u001b[39m(\u001b[39m12\u001b[39m,\u001b[39m12\u001b[39m))\n\u001b[1;32m      3\u001b[0m ax \u001b[39m=\u001b[39m fig\u001b[39m.\u001b[39madd_subplot(\u001b[39m111\u001b[39m)\n\u001b[1;32m      4\u001b[0m cax \u001b[39m=\u001b[39m ax\u001b[39m.\u001b[39mmatshow(dataframe\u001b[39m.\u001b[39mcorr(), vmin\u001b[39m=\u001b[39m\u001b[39m-\u001b[39m\u001b[39m1\u001b[39m, vmax\u001b[39m=\u001b[39m\u001b[39m1\u001b[39m, interpolation\u001b[39m=\u001b[39m\u001b[39m'\u001b[39m\u001b[39mnone\u001b[39m\u001b[39m'\u001b[39m)\n",
      "\u001b[0;31mNameError\u001b[0m: name 'pyplot' is not defined"
     ]
    }
   ],
   "source": [
    "# example correlation matrix\n",
    "fig = pyplot.figure(figsize=(12,12))\n",
    "ax = fig.add_subplot(111)\n",
    "cax = ax.matshow(dataframe.corr(), vmin=-1, vmax=1, interpolation='none')\n",
    "fig.colorbar(cax)\n",
    "ticks = numpy.arange(0,14,1)\n",
    "ax.set_xticks(ticks)\n",
    "ax.set_yticks(ticks)\n",
    "ax.set_xticklabels(names)\n",
    "ax.set_yticklabels(names)\n",
    "pyplot.show()"
   ]
  },
  {
   "attachments": {},
   "cell_type": "markdown",
   "metadata": {},
   "source": [
    "3. Prepare Data\n",
    "\n",
    "   3.1  Data Cleaning\n",
    "\n",
    "       3.1.1 check for issues in data (wrong data, missing values, data integrity issues)\n",
    "\n",
    "   3.2  Feature Selection\n",
    "\n",
    "       3.2.1 Univariate selection (selctKbest and chi-squared or f-values). See the example below.\n",
    "\n",
    "       3.2.2 RFE (recursive feature elimination) works by recursively removing attributes and\n",
    "            building a model on those attributes that remain. check documentation for more details. See the example below.\n",
    "\n",
    "       3.2.3 PCA .. we have already discussed this in class. Showing an example again here\n",
    "\n",
    "   3.3 Feature importance \n",
    "\n",
    "       3.3.1 Bagged decision trees like Random Forest can be used to estimate the importance\n",
    "         of features. In the example below we construct a RandomForestClassifier\n",
    "\n",
    "   3.4  Data Transforms\n",
    "\n",
    "       3.4.1 Rescale data (data of varying scales when using distance measures such as knn). You can use minmaxscaler, standardscaler, normalizer). All of them are under sklern.preprocessing\n",
    "       \n",
    "       3.4.2 you may also want to use binarizer for some features. Say you have a probability feature and you want to turn it into 1/0 values. you can use preprocessing.binarizer for this."
   ]
  },
  {
   "attachments": {},
   "cell_type": "markdown",
   "metadata": {},
   "source": [
    "4. Evaluate Algorithms\n",
    "\n",
    "   4.1  Split-out validation dataset\n",
    "\n",
    "       4.1.1 train and test sets\n",
    "\n",
    "       4.1.2 use k-fold cross validation whereever possible.\n",
    "           * if you are using a time consuming algorithm or a huge dataset, use smaller k's\n",
    "           * use both mean and sd/CI\n",
    "\n",
    "   4.2  Test options and evaluation metric\n",
    "\n",
    "       4.2.1 remember unbalnaced dataset we discussed in class. accuracy is not always the best option\n",
    "\n",
    "       4.2.2 make use of confusion matrix, precision, recall, f1 score\n",
    "\n",
    "       4.2.3 Use AUC score \n",
    "\n",
    "       4.2.4 Use classification report (seen in class)\n",
    "\n",
    "       4.2.5 Regression ( Mean squared error, mean absolute error, R^2) (see example below)\n",
    "\n",
    "   4.3  Spot Check Algorithms\n",
    "\n",
    "       4.3.1 quick way to check which algorithms work well for your problem\n",
    "\n",
    "   4.4  Compare Algorithms\n",
    "\n",
    "       4.4.1 Comparing different algorithms in a consistent way is important (see examples for both classification and regression problems)\n",
    "       "
   ]
  },
  {
   "cell_type": "code",
   "execution_count": 16,
   "metadata": {},
   "outputs": [],
   "source": [
    "# Split-out validation dataset\n",
    "array = dataframe.values\n",
    "X = array[:,0:13]\n",
    "Y = array[:,13]\n",
    "validation_size = 0.20\n",
    "seed = 7\n",
    "X_train, X_validation, Y_train, Y_validation = train_test_split(X, Y,\n",
    "test_size=validation_size, random_state=seed)"
   ]
  },
  {
   "cell_type": "code",
   "execution_count": 17,
   "metadata": {},
   "outputs": [],
   "source": [
    "# Test options and evaluation metric\n",
    "num_folds = 10\n",
    "seed = 7\n",
    "scoring = 'neg_mean_squared_error'"
   ]
  },
  {
   "cell_type": "code",
   "execution_count": 20,
   "metadata": {},
   "outputs": [],
   "source": [
    "# Spot-Check Algorithms\n",
    "models = []\n",
    "models.append(('LR', LinearRegression()))\n",
    "models.append(('LASSO', Lasso()))\n",
    "models.append(('EN', ElasticNet()))\n",
    "models.append(('KNN', KNeighborsRegressor()))\n",
    "models.append(('CART', DecisionTreeRegressor()))\n",
    "models.append(('SVR', SVR(gamma='auto')))"
   ]
  },
  {
   "cell_type": "code",
   "execution_count": 21,
   "metadata": {},
   "outputs": [
    {
     "name": "stdout",
     "output_type": "stream",
     "text": [
      "LR: -21.379856 (9.414264)\n",
      "LASSO: -26.423561 (11.651110)\n",
      "EN: -27.502259 (12.305022)\n",
      "KNN: -41.896488 (13.901688)\n",
      "CART: -24.151844 (10.000614)\n",
      "SVR: -85.518342 (31.994798)\n"
     ]
    }
   ],
   "source": [
    "# evaluate each model in turn\n",
    "results = []\n",
    "names = []\n",
    "for name, model in models:\n",
    "    kfold = KFold(n_splits=num_folds, random_state=seed)\n",
    "    cv_results = cross_val_score(model, X_train, Y_train, cv=kfold, scoring=scoring)\n",
    "    results.append(cv_results)\n",
    "    names.append(name)\n",
    "    msg = \"%s: %f (%f)\" % (name, cv_results.mean(), cv_results.std())\n",
    "    print(msg)"
   ]
  },
  {
   "cell_type": "code",
   "execution_count": 22,
   "metadata": {},
   "outputs": [
    {
     "data": {
      "image/png": "[encoded data removed]",
      "text/plain": [
       "<Figure size 432x288 with 1 Axes>"
      ]
     },
     "metadata": {
      "needs_background": "light"
     },
     "output_type": "display_data"
    }
   ],
   "source": [
    "# Compare Algorithms\n",
    "fig = pyplot.figure()\n",
    "fig.suptitle('Algorithm Comparison')\n",
    "ax = fig.add_subplot(111)\n",
    "pyplot.boxplot(results)\n",
    "ax.set_xticklabels(names)\n",
    "pyplot.show()"
   ]
  },
  {
   "cell_type": "markdown",
   "metadata": {},
   "source": [
    "5. Improve Accuracy\n",
    "\n",
    "   5.1  Algorithm Tuning\n",
    "   \n",
    "       5.1.1 Use pipelines.. saves a lot of time!\n",
    "       \n",
    "   5.2  Ensembles"
   ]
  },
  {
   "cell_type": "code",
   "execution_count": 23,
   "metadata": {},
   "outputs": [
    {
     "name": "stdout",
     "output_type": "stream",
     "text": [
      "ScaledLR: -21.379856 (9.414264)\n",
      "ScaledLASSO: -26.607314 (8.978761)\n",
      "ScaledEN: -27.932372 (10.587490)\n",
      "ScaledKNN: -20.107620 (12.376949)\n",
      "ScaledCART: -22.811333 (8.878937)\n",
      "ScaledSVR: -29.633086 (17.009186)\n"
     ]
    }
   ],
   "source": [
    "# Standardize the dataset\n",
    "pipelines = []\n",
    "pipelines.append(('ScaledLR', Pipeline([('Scaler', StandardScaler()),('LR',\n",
    "LinearRegression())])))\n",
    "pipelines.append(('ScaledLASSO', Pipeline([('Scaler', StandardScaler()),('LASSO',\n",
    "Lasso())])))\n",
    "pipelines.append(('ScaledEN', Pipeline([('Scaler', StandardScaler()),('EN',\n",
    "ElasticNet())])))\n",
    "pipelines.append(('ScaledKNN', Pipeline([('Scaler', StandardScaler()),('KNN',\n",
    "KNeighborsRegressor())])))\n",
    "pipelines.append(('ScaledCART', Pipeline([('Scaler', StandardScaler()),('CART',\n",
    "DecisionTreeRegressor())])))\n",
    "pipelines.append(('ScaledSVR', Pipeline([('Scaler', StandardScaler()),('SVR', SVR())])))\n",
    "results = []\n",
    "names = []\n",
    "for name, model in pipelines:\n",
    "    kfold = KFold(n_splits=num_folds, random_state=seed)\n",
    "    cv_results = cross_val_score(model, X_train, Y_train, cv=kfold, scoring=scoring)\n",
    "    results.append(cv_results)\n",
    "    names.append(name)\n",
    "    msg = \"%s: %f (%f)\" % (name, cv_results.mean(), cv_results.std())\n",
    "    print(msg)"
   ]
  },
  {
   "cell_type": "code",
   "execution_count": 24,
   "metadata": {},
   "outputs": [
    {
     "data": {
      "image/png": "[encoded data removed]",
      "text/plain": [
       "<Figure size 432x288 with 1 Axes>"
      ]
     },
     "metadata": {
      "needs_background": "light"
     },
     "output_type": "display_data"
    }
   ],
   "source": [
    "# Compare Algorithms\n",
    "fig = pyplot.figure()\n",
    "fig.suptitle('Scaled Algorithm Comparison')\n",
    "ax = fig.add_subplot(111)\n",
    "pyplot.boxplot(results)\n",
    "ax.set_xticklabels(names)\n",
    "pyplot.show()"
   ]
  },
  {
   "cell_type": "code",
   "execution_count": 30,
   "metadata": {},
   "outputs": [],
   "source": [
    "# KNN Algorithm tuning\n",
    "scaler = StandardScaler().fit(X_train)\n",
    "rescaledX = scaler.transform(X_train)\n",
    "k_values = numpy.array([1,3,5,7,9,11,13,15,17,19,21])\n",
    "param_grid = dict(n_neighbors=k_values)\n",
    "model = KNeighborsRegressor()\n",
    "kfold = KFold(n_splits=num_folds, random_state=seed)\n",
    "grid = GridSearchCV(estimator=model, param_grid=param_grid, scoring=scoring, cv=kfold, iid = False)\n",
    "grid_result = grid.fit(rescaledX, Y_train)"
   ]
  },
  {
   "cell_type": "code",
   "execution_count": 31,
   "metadata": {},
   "outputs": [
    {
     "name": "stdout",
     "output_type": "stream",
     "text": [
      "Best: -18.109304 using {'n_neighbors': 3}\n",
      "-20.169640 (14.986904) with: {'n_neighbors': 1}\n",
      "-18.109304 (12.880861) with: {'n_neighbors': 3}\n",
      "-20.063115 (12.138331) with: {'n_neighbors': 5}\n",
      "-20.514297 (12.278136) with: {'n_neighbors': 7}\n",
      "-20.319536 (11.554509) with: {'n_neighbors': 9}\n",
      "-20.963145 (11.540907) with: {'n_neighbors': 11}\n",
      "-21.099040 (11.870962) with: {'n_neighbors': 13}\n",
      "-21.506843 (11.468311) with: {'n_neighbors': 15}\n",
      "-22.739137 (11.499596) with: {'n_neighbors': 17}\n",
      "-23.829011 (11.277558) with: {'n_neighbors': 19}\n",
      "-24.320892 (11.849667) with: {'n_neighbors': 21}\n"
     ]
    }
   ],
   "source": [
    "print(\"Best: %f using %s\" % (grid_result.best_score_, grid_result.best_params_))\n",
    "means = grid_result.cv_results_['mean_test_score']\n",
    "stds = grid_result.cv_results_['std_test_score']\n",
    "params = grid_result.cv_results_['params']\n",
    "for mean, stdev, param in zip(means, stds, params):\n",
    "    print(\"%f (%f) with: %r\" % (mean, stdev, param))"
   ]
  },
  {
   "cell_type": "markdown",
   "metadata": {},
   "source": [
    "#### Ensemble methods"
   ]
  },
  {
   "cell_type": "code",
   "execution_count": 32,
   "metadata": {},
   "outputs": [
    {
     "name": "stdout",
     "output_type": "stream",
     "text": [
      "ScaledAB: -14.227305 (6.091137)\n",
      "ScaledGBM: -10.207636 (4.475458)\n",
      "ScaledRF: -12.583660 (6.931112)\n"
     ]
    }
   ],
   "source": [
    "# ensembles\n",
    "ensembles = []\n",
    "ensembles.append(('ScaledAB', Pipeline([('Scaler', StandardScaler()),('AB',\n",
    "AdaBoostRegressor())])))\n",
    "ensembles.append(('ScaledGBM', Pipeline([('Scaler', StandardScaler()),('GBM',\n",
    "GradientBoostingRegressor())])))\n",
    "ensembles.append(('ScaledRF', Pipeline([('Scaler', StandardScaler()),('RF',\n",
    "RandomForestRegressor(n_estimators=10))])))\n",
    "results = []\n",
    "names = []\n",
    "for name, model in ensembles:\n",
    "    kfold = KFold(n_splits=num_folds, random_state=seed)\n",
    "    cv_results = cross_val_score(model, X_train, Y_train, cv=kfold, scoring=scoring)\n",
    "    results.append(cv_results)\n",
    "    names.append(name)\n",
    "    msg = \"%s: %f (%f)\" % (name, cv_results.mean(), cv_results.std())\n",
    "    print(msg)\n"
   ]
  },
  {
   "cell_type": "code",
   "execution_count": 33,
   "metadata": {},
   "outputs": [
    {
     "data": {
      "image/png": "[encoded data removed]",
      "text/plain": [
       "<Figure size 432x288 with 1 Axes>"
      ]
     },
     "metadata": {
      "needs_background": "light"
     },
     "output_type": "display_data"
    }
   ],
   "source": [
    "# Compare Algorithms\n",
    "fig = pyplot.figure()\n",
    "fig.suptitle('Scaled Ensemble Algorithm Comparison')\n",
    "ax = fig.add_subplot(111)\n",
    "pyplot.boxplot(results)\n",
    "ax.set_xticklabels(names)\n",
    "pyplot.show()"
   ]
  },
  {
   "cell_type": "code",
   "execution_count": 34,
   "metadata": {},
   "outputs": [],
   "source": [
    "# Tune scaled GBM\n",
    "scaler = StandardScaler().fit(X_train)\n",
    "rescaledX = scaler.transform(X_train)\n",
    "param_grid = dict(n_estimators=numpy.array([50,100,150,200,250,300,350,400]))\n",
    "model = GradientBoostingRegressor(random_state=seed)\n",
    "kfold = KFold(n_splits=num_folds, random_state=seed)\n",
    "grid = GridSearchCV(estimator=model, param_grid=param_grid, scoring=scoring, cv=kfold,\n",
    "iid=True)\n",
    "grid_result = grid.fit(rescaledX, Y_train)"
   ]
  },
  {
   "cell_type": "code",
   "execution_count": 35,
   "metadata": {},
   "outputs": [
    {
     "name": "stdout",
     "output_type": "stream",
     "text": [
      "Best: -9.353870 using {'n_estimators': 400}\n",
      "-10.812167 (4.724394) with: {'n_estimators': 50}\n",
      "-10.040857 (4.441758) with: {'n_estimators': 100}\n",
      "-9.694045 (4.275653) with: {'n_estimators': 150}\n",
      "-9.539481 (4.270153) with: {'n_estimators': 200}\n",
      "-9.449042 (4.261930) with: {'n_estimators': 250}\n",
      "-9.426909 (4.271399) with: {'n_estimators': 300}\n",
      "-9.366779 (4.251669) with: {'n_estimators': 350}\n",
      "-9.353870 (4.265816) with: {'n_estimators': 400}\n"
     ]
    }
   ],
   "source": [
    "print(\"Best: %f using %s\" % (grid_result.best_score_, grid_result.best_params_))\n",
    "means = grid_result.cv_results_['mean_test_score']\n",
    "stds = grid_result.cv_results_['std_test_score']\n",
    "params = grid_result.cv_results_['params']\n",
    "for mean, stdev, param in zip(means, stds, params):\n",
    "    print(\"%f (%f) with: %r\" % (mean, stdev, param))"
   ]
  },
  {
   "cell_type": "markdown",
   "metadata": {},
   "source": [
    "### Finalize the model"
   ]
  },
  {
   "attachments": {},
   "cell_type": "markdown",
   "metadata": {},
   "source": [
    "6. Finalize Model\n",
    "\n",
    "   6.1  Predictions on validation dataset\n",
    "\n",
    "   6.2  Create standalone model on entire training dataset\n",
    "   \n",
    "   6.3  Save model for later use"
   ]
  },
  {
   "cell_type": "code",
   "execution_count": 36,
   "metadata": {},
   "outputs": [
    {
     "data": {
      "text/plain": [
       "GradientBoostingRegressor(alpha=0.9, criterion='friedman_mse', init=None,\n",
       "                          learning_rate=0.1, loss='ls', max_depth=3,\n",
       "                          max_features=None, max_leaf_nodes=None,\n",
       "                          min_impurity_decrease=0.0, min_impurity_split=None,\n",
       "                          min_samples_leaf=1, min_samples_split=2,\n",
       "                          min_weight_fraction_leaf=0.0, n_estimators=400,\n",
       "                          n_iter_no_change=None, presort='auto', random_state=7,\n",
       "                          subsample=1.0, tol=0.0001, validation_fraction=0.1,\n",
       "                          verbose=0, warm_start=False)"
      ]
     },
     "execution_count": 36,
     "metadata": {},
     "output_type": "execute_result"
    }
   ],
   "source": [
    "# prepare the model\n",
    "scaler = StandardScaler().fit(X_train)\n",
    "rescaledX = scaler.transform(X_train)\n",
    "model = GradientBoostingRegressor(random_state=seed, n_estimators=400)\n",
    "model.fit(rescaledX, Y_train)"
   ]
  },
  {
   "cell_type": "code",
   "execution_count": 37,
   "metadata": {},
   "outputs": [
    {
     "name": "stdout",
     "output_type": "stream",
     "text": [
      "11.878916447820348\n"
     ]
    }
   ],
   "source": [
    "# transform the validation dataset\n",
    "rescaledValidationX = scaler.transform(X_validation)\n",
    "predictions = model.predict(rescaledValidationX)\n",
    "print(mean_squared_error(Y_validation, predictions))"
   ]
  },
  {
   "cell_type": "code",
   "execution_count": 6,
   "metadata": {},
   "outputs": [],
   "source": [
    "from sklearn import datasets\n",
    "from sklearn.model_selection import train_test_split"
   ]
  },
  {
   "cell_type": "code",
   "execution_count": 10,
   "metadata": {},
   "outputs": [],
   "source": [
    "x, y = datasets.make_classification(n_informative = 6,n_classes=4)"
   ]
  },
  {
   "cell_type": "code",
   "execution_count": 11,
   "metadata": {},
   "outputs": [
    {
     "data": {
      "text/plain": [
       "array([-2.62542644e+00, -1.51073673e+00, -5.85137994e-01,  6.29535272e-02,\n",
       "       -1.61084479e-01,  2.95207645e-01, -2.40794295e-04, -3.45488648e-02,\n",
       "        5.57035376e-01,  7.81863710e-01, -8.59906977e-01, -2.17454622e+00,\n",
       "        7.08437881e-01,  7.77889650e-01,  2.71124130e-01, -1.12271802e-01,\n",
       "       -3.54022236e-01, -1.38377677e-01, -3.42268638e-01, -4.22629877e-01,\n",
       "       -1.78311106e+00,  2.38978223e+00, -1.70439438e+00, -1.15971771e+00,\n",
       "       -4.19245631e-01,  8.49186290e-01,  2.29856581e-01,  8.67357861e-01,\n",
       "        2.14559574e-01,  8.92254889e-01,  6.01923394e-01, -7.36008465e-01,\n",
       "        1.52423833e+00,  7.86375579e-02, -1.36527169e+00,  1.56015247e+00,\n",
       "       -2.90353282e-01, -9.88006594e-01,  5.46679669e-01,  2.00437799e-01,\n",
       "       -4.56986021e-02, -5.15254991e-01, -2.32284139e+00,  1.37938300e+00,\n",
       "        1.29977138e+00,  5.60191988e-01, -1.79074722e-01, -4.55235936e-01,\n",
       "       -3.39934587e-01,  1.99331190e+00, -3.20276412e-01, -7.54696786e-03,\n",
       "        1.16685264e-01, -2.32563694e-01, -8.52364241e-02, -1.71248973e-01,\n",
       "       -1.42359767e+00, -6.44468432e-01, -5.49929475e-01, -1.46453410e+00,\n",
       "       -1.45945815e+00, -2.30414975e+00, -1.51918252e+00, -5.95590876e-03,\n",
       "        2.80145007e-01, -6.75893987e-01,  8.35845843e-01, -5.72355369e-01,\n",
       "        1.49754208e+00, -6.16635596e-01,  8.58660674e-01, -7.36107996e-01,\n",
       "       -1.50853762e+00, -2.19891707e-01, -9.54664522e-01,  1.29073030e+00,\n",
       "       -1.81516658e+00, -4.54028786e-01, -1.28349063e-01, -6.18255657e-01,\n",
       "       -6.95283203e-01,  1.00744575e+00,  4.98892920e-01, -6.27029498e-01,\n",
       "       -1.07535666e+00,  6.32806732e-01,  1.27323977e+00,  7.91361216e-01,\n",
       "       -2.73175216e-01, -1.88350482e-01, -8.64441767e-01, -6.92847879e-01,\n",
       "       -1.40067047e+00,  2.69191583e-01, -5.98037602e-02, -1.23402752e+00,\n",
       "        3.38117428e-01, -1.73127229e-01, -5.60153313e-01, -1.70447577e+00])"
      ]
     },
     "execution_count": 11,
     "metadata": {},
     "output_type": "execute_result"
    }
   ],
   "source": [
    "x[:,0]"
   ]
  },
  {
   "cell_type": "code",
   "execution_count": null,
   "metadata": {},
   "outputs": [],
   "source": []
  },
  {
   "cell_type": "code",
   "execution_count": 12,
   "metadata": {},
   "outputs": [],
   "source": [
    "xtrain, xtest, ytrain, ytest = train_test_split(x,y)"
   ]
  },
  {
   "cell_type": "code",
   "execution_count": 20,
   "metadata": {},
   "outputs": [
    {
     "data": {
      "text/plain": [
       "((75, 20),\n",
       " array([[ 0.2004378 ,  1.11731982,  0.4216395 , ...,  3.49914474,\n",
       "         -0.83871914,  1.74652649],\n",
       "        [-0.18835048,  1.59017948,  0.94143773, ..., -0.8856182 ,\n",
       "         -0.35838704,  0.2958091 ],\n",
       "        [-0.56015331,  0.15713331,  0.1887265 , ..., -0.79683213,\n",
       "         -0.50041695, -0.6256784 ],\n",
       "        ...,\n",
       "        [-1.45945815,  0.18458042, -0.73703698, ..., -1.40084736,\n",
       "         -1.03546172, -0.10726236],\n",
       "        [ 0.83584584, -0.27330491,  0.73944612, ..., -2.29838388,\n",
       "          0.06012395,  1.141455  ],\n",
       "        [-0.6166356 ,  0.82765101,  1.48356455, ...,  4.34940762,\n",
       "         -0.4110034 ,  0.07899658]]))"
      ]
     },
     "execution_count": 20,
     "metadata": {},
     "output_type": "execute_result"
    }
   ],
   "source": [
    "xtrain.shape,xtrain"
   ]
  },
  {
   "cell_type": "code",
   "execution_count": 22,
   "metadata": {},
   "outputs": [
    {
     "data": {
      "text/plain": [
       "((75,),\n",
       " array([ 2.00437799e-01, -1.88350482e-01, -5.60153313e-01,  1.52423833e+00,\n",
       "        -5.72355369e-01, -1.73127229e-01, -1.28349063e-01, -3.45488648e-02,\n",
       "        -8.59906977e-01, -1.46453410e+00,  8.92254889e-01,  1.56015247e+00,\n",
       "         2.38978223e+00, -6.75893987e-01, -1.23402752e+00,  1.49754208e+00,\n",
       "        -5.15254991e-01, -9.88006594e-01,  2.29856581e-01,  1.29073030e+00,\n",
       "         4.98892920e-01, -1.70447577e+00,  2.71124130e-01,  2.14559574e-01,\n",
       "        -1.40067047e+00, -3.39934587e-01, -8.64441767e-01, -1.78311106e+00,\n",
       "         1.16685264e-01,  1.99331190e+00, -4.56986021e-02,  1.00744575e+00,\n",
       "        -6.27029498e-01,  7.91361216e-01, -1.61084479e-01, -4.54028786e-01,\n",
       "        -2.32563694e-01, -2.73175216e-01, -2.19891707e-01, -4.55235936e-01,\n",
       "        -3.42268638e-01, -1.07535666e+00,  6.01923394e-01, -2.40794295e-04,\n",
       "        -4.22629877e-01, -6.95283203e-01, -8.52364241e-02,  1.37938300e+00,\n",
       "        -1.12271802e-01,  2.80145007e-01, -6.92847879e-01,  7.81863710e-01,\n",
       "        -2.30414975e+00,  3.38117428e-01,  7.08437881e-01, -5.98037602e-02,\n",
       "        -7.36008465e-01, -3.54022236e-01,  2.95207645e-01, -1.38377677e-01,\n",
       "         8.49186290e-01, -1.51073673e+00,  8.67357861e-01, -6.18255657e-01,\n",
       "        -1.36527169e+00, -5.85137994e-01, -2.62542644e+00,  2.69191583e-01,\n",
       "         7.77889650e-01, -1.79074722e-01, -1.51918252e+00, -6.44468432e-01,\n",
       "        -1.45945815e+00,  8.35845843e-01, -6.16635596e-01]))"
      ]
     },
     "execution_count": 22,
     "metadata": {},
     "output_type": "execute_result"
    }
   ],
   "source": [
    "xtrain[:,0].shape, xtrain[:,0]"
   ]
  },
  {
   "cell_type": "code",
   "execution_count": null,
   "metadata": {},
   "outputs": [],
   "source": []
  }
 ],
 "metadata": {
  "kernelspec": {
   "display_name": "Python 3",
   "language": "python",
   "name": "python3"
  },
  "language_info": {
   "codemirror_mode": {
    "name": "ipython",
    "version": 3
   },
   "file_extension": ".py",
   "mimetype": "text/x-python",
   "name": "python",
   "nbconvert_exporter": "python",
   "pygments_lexer": "ipython3",
   "version": "3.10.8"
  }
 },
 "nbformat": 4,
 "nbformat_minor": 4
}
